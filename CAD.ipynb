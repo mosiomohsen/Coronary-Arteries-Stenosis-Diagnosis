{
  "nbformat": 4,
  "nbformat_minor": 0,
  "metadata": {
    "colab": {
      "name": "CAD.ipynb",
      "version": "0.3.2",
      "provenance": []
    },
    "kernelspec": {
      "name": "python3",
      "display_name": "Python 3"
    }
  },
  "cells": [
    {
      "cell_type": "code",
      "metadata": {
        "id": "OWe0h9DkXdWG",
        "colab_type": "code",
        "colab": {}
      },
      "source": [
        "import pandas as pd\n",
        "import numpy as np\n",
        "import matplotlib.pyplot as plt\n",
        "from matplotlib.pyplot import figure, gcf\n",
        "from sklearn.preprocessing import StandardScaler\n",
        "from sklearn.pipeline import Pipeline\n",
        "from sklearn.model_selection import train_test_split, GridSearchCV, StratifiedKFold, cross_val_score\n",
        "from sklearn.metrics import f1_score, accuracy_score, confusion_matrix, auc, roc_curve\n",
        "from sklearn.preprocessing import LabelEncoder\n",
        "from xgboost import XGBClassifier\n",
        "from xgboost import plot_importance\n",
        "import lightgbm as lgb\n",
        "from keras.models import Sequential\n",
        "from keras import optimizers\n",
        "from keras.layers import Dense, Dropout\n",
        "from keras.wrappers.scikit_learn import KerasClassifier\n",
        "from sklearn.preprocessing import StandardScaler\n",
        "from sklearn.pipeline import Pipeline\n",
        "from sklearn.model_selection import train_test_split, GridSearchCV, StratifiedKFold, cross_val_score\n",
        "import keras.backend as K\n",
        "from tensorflow import set_random_seed"
      ],
      "execution_count": 0,
      "outputs": []
    },
    {
      "cell_type": "code",
      "metadata": {
        "id": "ljKC1sIVXjrn",
        "colab_type": "code",
        "colab": {}
      },
      "source": [
        "seed = 7\n",
        "np.random.seed(seed)\n",
        "set_random_seed(2)"
      ],
      "execution_count": 0,
      "outputs": []
    },
    {
      "cell_type": "code",
      "metadata": {
        "id": "w2C-6vNxXpNE",
        "colab_type": "code",
        "colab": {
          "base_uri": "https://localhost:8080/",
          "height": 233
        },
        "outputId": "637b249b-8e21-48c0-db14-024e1a3ff8e3"
      },
      "source": [
        "df = pd.read_excel('CAD.xlsx')\n",
        "df.head()"
      ],
      "execution_count": 3,
      "outputs": [
        {
          "output_type": "execute_result",
          "data": {
            "text/html": [
              "<div>\n",
              "<style scoped>\n",
              "    .dataframe tbody tr th:only-of-type {\n",
              "        vertical-align: middle;\n",
              "    }\n",
              "\n",
              "    .dataframe tbody tr th {\n",
              "        vertical-align: top;\n",
              "    }\n",
              "\n",
              "    .dataframe thead th {\n",
              "        text-align: right;\n",
              "    }\n",
              "</style>\n",
              "<table border=\"1\" class=\"dataframe\">\n",
              "  <thead>\n",
              "    <tr style=\"text-align: right;\">\n",
              "      <th></th>\n",
              "      <th>Age</th>\n",
              "      <th>Weight</th>\n",
              "      <th>Length</th>\n",
              "      <th>Sex</th>\n",
              "      <th>BMI</th>\n",
              "      <th>DM</th>\n",
              "      <th>HTN</th>\n",
              "      <th>Current Smoker</th>\n",
              "      <th>EX-Smoker</th>\n",
              "      <th>FH</th>\n",
              "      <th>...</th>\n",
              "      <th>K</th>\n",
              "      <th>Na</th>\n",
              "      <th>WBC</th>\n",
              "      <th>Lymph</th>\n",
              "      <th>Neut</th>\n",
              "      <th>PLT</th>\n",
              "      <th>EF-TTE</th>\n",
              "      <th>Region RWMA</th>\n",
              "      <th>VHD</th>\n",
              "      <th>Cath</th>\n",
              "    </tr>\n",
              "  </thead>\n",
              "  <tbody>\n",
              "    <tr>\n",
              "      <th>0</th>\n",
              "      <td>53</td>\n",
              "      <td>90</td>\n",
              "      <td>175</td>\n",
              "      <td>Male</td>\n",
              "      <td>29.387755</td>\n",
              "      <td>0</td>\n",
              "      <td>1</td>\n",
              "      <td>1</td>\n",
              "      <td>0</td>\n",
              "      <td>0</td>\n",
              "      <td>...</td>\n",
              "      <td>4.7</td>\n",
              "      <td>141</td>\n",
              "      <td>5700</td>\n",
              "      <td>39</td>\n",
              "      <td>52</td>\n",
              "      <td>261</td>\n",
              "      <td>50</td>\n",
              "      <td>0</td>\n",
              "      <td>N</td>\n",
              "      <td>Cad</td>\n",
              "    </tr>\n",
              "    <tr>\n",
              "      <th>1</th>\n",
              "      <td>67</td>\n",
              "      <td>70</td>\n",
              "      <td>157</td>\n",
              "      <td>Fmale</td>\n",
              "      <td>28.398718</td>\n",
              "      <td>0</td>\n",
              "      <td>1</td>\n",
              "      <td>0</td>\n",
              "      <td>0</td>\n",
              "      <td>0</td>\n",
              "      <td>...</td>\n",
              "      <td>4.7</td>\n",
              "      <td>156</td>\n",
              "      <td>7700</td>\n",
              "      <td>38</td>\n",
              "      <td>55</td>\n",
              "      <td>165</td>\n",
              "      <td>40</td>\n",
              "      <td>4</td>\n",
              "      <td>N</td>\n",
              "      <td>Cad</td>\n",
              "    </tr>\n",
              "    <tr>\n",
              "      <th>2</th>\n",
              "      <td>54</td>\n",
              "      <td>54</td>\n",
              "      <td>164</td>\n",
              "      <td>Male</td>\n",
              "      <td>20.077335</td>\n",
              "      <td>0</td>\n",
              "      <td>0</td>\n",
              "      <td>1</td>\n",
              "      <td>0</td>\n",
              "      <td>0</td>\n",
              "      <td>...</td>\n",
              "      <td>4.7</td>\n",
              "      <td>139</td>\n",
              "      <td>7400</td>\n",
              "      <td>38</td>\n",
              "      <td>60</td>\n",
              "      <td>230</td>\n",
              "      <td>40</td>\n",
              "      <td>2</td>\n",
              "      <td>mild</td>\n",
              "      <td>Cad</td>\n",
              "    </tr>\n",
              "    <tr>\n",
              "      <th>3</th>\n",
              "      <td>66</td>\n",
              "      <td>67</td>\n",
              "      <td>158</td>\n",
              "      <td>Fmale</td>\n",
              "      <td>26.838648</td>\n",
              "      <td>0</td>\n",
              "      <td>1</td>\n",
              "      <td>0</td>\n",
              "      <td>0</td>\n",
              "      <td>0</td>\n",
              "      <td>...</td>\n",
              "      <td>4.4</td>\n",
              "      <td>142</td>\n",
              "      <td>13000</td>\n",
              "      <td>18</td>\n",
              "      <td>72</td>\n",
              "      <td>742</td>\n",
              "      <td>55</td>\n",
              "      <td>0</td>\n",
              "      <td>Severe</td>\n",
              "      <td>Normal</td>\n",
              "    </tr>\n",
              "    <tr>\n",
              "      <th>4</th>\n",
              "      <td>50</td>\n",
              "      <td>87</td>\n",
              "      <td>153</td>\n",
              "      <td>Fmale</td>\n",
              "      <td>37.165193</td>\n",
              "      <td>0</td>\n",
              "      <td>1</td>\n",
              "      <td>0</td>\n",
              "      <td>0</td>\n",
              "      <td>0</td>\n",
              "      <td>...</td>\n",
              "      <td>4.0</td>\n",
              "      <td>140</td>\n",
              "      <td>9200</td>\n",
              "      <td>55</td>\n",
              "      <td>39</td>\n",
              "      <td>274</td>\n",
              "      <td>50</td>\n",
              "      <td>0</td>\n",
              "      <td>Severe</td>\n",
              "      <td>Normal</td>\n",
              "    </tr>\n",
              "  </tbody>\n",
              "</table>\n",
              "<p>5 rows × 56 columns</p>\n",
              "</div>"
            ],
            "text/plain": [
              "   Age  Weight  Length    Sex        BMI  DM  HTN  Current Smoker  EX-Smoker  \\\n",
              "0   53      90     175   Male  29.387755   0    1               1          0   \n",
              "1   67      70     157  Fmale  28.398718   0    1               0          0   \n",
              "2   54      54     164   Male  20.077335   0    0               1          0   \n",
              "3   66      67     158  Fmale  26.838648   0    1               0          0   \n",
              "4   50      87     153  Fmale  37.165193   0    1               0          0   \n",
              "\n",
              "   FH  ...    K   Na    WBC Lymph Neut  PLT EF-TTE  Region RWMA     VHD  \\\n",
              "0   0  ...  4.7  141   5700    39   52  261     50            0       N   \n",
              "1   0  ...  4.7  156   7700    38   55  165     40            4       N   \n",
              "2   0  ...  4.7  139   7400    38   60  230     40            2    mild   \n",
              "3   0  ...  4.4  142  13000    18   72  742     55            0  Severe   \n",
              "4   0  ...  4.0  140   9200    55   39  274     50            0  Severe   \n",
              "\n",
              "     Cath  \n",
              "0     Cad  \n",
              "1     Cad  \n",
              "2     Cad  \n",
              "3  Normal  \n",
              "4  Normal  \n",
              "\n",
              "[5 rows x 56 columns]"
            ]
          },
          "metadata": {
            "tags": []
          },
          "execution_count": 3
        }
      ]
    },
    {
      "cell_type": "code",
      "metadata": {
        "id": "vee9VdGKZ8Rm",
        "colab_type": "code",
        "colab": {
          "base_uri": "https://localhost:8080/",
          "height": 295
        },
        "outputId": "42c5cedb-9d57-4c6b-a11d-e87391eebc9e"
      },
      "source": [
        "df.Cath.value_counts().plot.bar(color=['r','b'])\n",
        "plt.show()"
      ],
      "execution_count": 70,
      "outputs": [
        {
          "output_type": "display_data",
          "data": {
            "image/png": "[encoded data removed]",
            "text/plain": [
              "<Figure size 432x288 with 1 Axes>"
            ]
          },
          "metadata": {
            "tags": []
          }
        }
      ]
    },
    {
      "cell_type": "code",
      "metadata": {
        "id": "nwBgFVz5X3Iz",
        "colab_type": "code",
        "colab": {}
      },
      "source": [
        "X = df.drop(['Cath'], axis=1)\n",
        "Y = df['Cath']\n",
        "X = pd.get_dummies(X)\n",
        "encoder = LabelEncoder()\n",
        "encoder.fit(Y)\n",
        "Y = encoder.transform(Y)"
      ],
      "execution_count": 0,
      "outputs": []
    },
    {
      "cell_type": "code",
      "metadata": {
        "id": "9DFs_NfDYHjx",
        "colab_type": "code",
        "colab": {}
      },
      "source": [
        "skf = StratifiedKFold(n_splits=4, shuffle=False, random_state=8)"
      ],
      "execution_count": 0,
      "outputs": []
    },
    {
      "cell_type": "code",
      "metadata": {
        "id": "qndI77Y-YPxP",
        "colab_type": "code",
        "colab": {
          "base_uri": "https://localhost:8080/",
          "height": 102
        },
        "outputId": "bf8f303c-cc86-4cd8-b75a-e1b422ae5f6f"
      },
      "source": [
        "XGB = XGBClassifier(n_estimators=70, objective='binary:logistic',\n",
        "                    scale_pos_weight=4,\n",
        "                    seed=7)\n",
        "pred = []\n",
        "pred_ = []\n",
        "for fold, (trn_idx, val_idx) in enumerate(skf.split(X, Y)):\n",
        "    Xtrain, Ytrain = X.iloc[trn_idx], Y[trn_idx]\n",
        "    Xtest, Ytest = X.iloc[val_idx], Y[val_idx]\n",
        "    XGB.fit(Xtrain, Ytrain)\n",
        "    p = XGB.predict_proba(Xtest)\n",
        "    for pp in p:\n",
        "        pred.append(pp[1])\n",
        "        if pp[1]>0.5:\n",
        "          pred_.append(1)\n",
        "        else:\n",
        "          pred_.append(0)\n",
        "\n",
        "print('Accuracy:    ' , accuracy_score(Y, pred_))\n",
        "print('F_Measure:   ', f1_score(Y, pred_))\n",
        "fpr, tpr, thresholds = roc_curve(Y, pred)\n",
        "print('AUC:         ', auc(fpr, tpr))\n",
        "print(confusion_matrix(Y, pred_))"
      ],
      "execution_count": 72,
      "outputs": [
        {
          "output_type": "stream",
          "text": [
            "Accuracy:     0.7392739273927392\n",
            "F_Measure:    0.5775401069518717\n",
            "AUC:          0.7257343550447\n",
            "[[170  46]\n",
            " [ 33  54]]\n"
          ],
          "name": "stdout"
        }
      ]
    },
    {
      "cell_type": "code",
      "metadata": {
        "id": "9sREZ0yFo85b",
        "colab_type": "code",
        "colab": {
          "base_uri": "https://localhost:8080/",
          "height": 730
        },
        "outputId": "ba72d627-9b23-45b8-e23a-e88eb0f289f3"
      },
      "source": [
        "# feature importance\n",
        "plt.rcParams[\"figure.figsize\"] = (18,12)\n",
        "plot_importance(XGB)\n",
        "plt.show()"
      ],
      "execution_count": 92,
      "outputs": [
        {
          "output_type": "display_data",
          "data": {
            "image/png": "[encoded data removed]",
            "text/plain": [
              "<Figure size 1296x864 with 1 Axes>"
            ]
          },
          "metadata": {
            "tags": []
          }
        }
      ]
    },
    {
      "cell_type": "code",
      "metadata": {
        "id": "XPoG5JwoY7te",
        "colab_type": "code",
        "colab": {
          "base_uri": "https://localhost:8080/",
          "height": 102
        },
        "outputId": "24b65f7f-6161-4e8e-f1e7-6ae7823ee4bf"
      },
      "source": [
        "gbm = lgb.LGBMClassifier(n_estimators=10000, silent=True, subsample=0.85, colsample_bytree=0.85, learning_rate=0.009)\n",
        "\n",
        "pred = []\n",
        "pred_ = []\n",
        "for fold, (trn_idx, val_idx) in enumerate(skf.split(X, Y)):\n",
        "    Xtrain, Ytrain = X.iloc[trn_idx], Y[trn_idx]\n",
        "    Xtest, Ytest = X.iloc[val_idx], Y[val_idx]\n",
        "    gbm.fit(Xtrain, Ytrain, eval_set=[(Xtest, Ytest)], early_stopping_rounds=100, verbose=False)\n",
        "    p = gbm.predict_proba(Xtest, num_iteration=gbm.best_iteration_)\n",
        "    for pp in p:\n",
        "        pred.append(pp[1])\n",
        "        if pp[1]>0.5:\n",
        "          pred_.append(1)\n",
        "        else:\n",
        "          pred_.append(0)\n",
        "\n",
        "print('Accuracy:    ' , accuracy_score(Y, pred_))\n",
        "print('F_Measure:   ', f1_score(Y, pred_))\n",
        "fpr, tpr, thresholds = roc_curve(Y, pred)\n",
        "print('AUC:         ', auc(fpr, tpr))\n",
        "print(confusion_matrix(Y, pred_))"
      ],
      "execution_count": 73,
      "outputs": [
        {
          "output_type": "stream",
          "text": [
            "Accuracy:     0.7392739273927392\n",
            "F_Measure:    0.5031446540880503\n",
            "AUC:          0.7137611749680716\n",
            "[[184  32]\n",
            " [ 47  40]]\n"
          ],
          "name": "stdout"
        }
      ]
    },
    {
      "cell_type": "code",
      "metadata": {
        "id": "hWd53imhgkLH",
        "colab_type": "code",
        "colab": {}
      },
      "source": [
        "def f1(y_true, y_pred):\n",
        "    def recall(y_true, y_pred):\n",
        "        \"\"\"Recall metric.\n",
        "\n",
        "        Only computes a batch-wise average of recall.\n",
        "\n",
        "        Computes the recall, a metric for multi-label classification of\n",
        "        how many relevant items are selected.\n",
        "        \"\"\"\n",
        "        true_positives = K.sum(K.round(K.clip(y_true * y_pred, 0, 1)))\n",
        "        possible_positives = K.sum(K.round(K.clip(y_true, 0, 1)))\n",
        "        recall = true_positives / (possible_positives + K.epsilon())\n",
        "        return recall\n",
        "\n",
        "    def precision(y_true, y_pred):\n",
        "        \"\"\"Precision metric.\n",
        "\n",
        "        Only computes a batch-wise average of precision.\n",
        "\n",
        "        Computes the precision, a metric for multi-label classification of\n",
        "        how many selected items are relevant.\n",
        "        \"\"\"\n",
        "        true_positives = K.sum(K.round(K.clip(y_true * y_pred, 0, 1)))\n",
        "        predicted_positives = K.sum(K.round(K.clip(y_pred, 0, 1)))\n",
        "        precision = true_positives / (predicted_positives + K.epsilon())\n",
        "        return precision\n",
        "    precision = precision(y_true, y_pred)\n",
        "    recall = recall(y_true, y_pred)\n",
        "    return 2*((precision*recall)/(precision+recall+K.epsilon()))\n"
      ],
      "execution_count": 0,
      "outputs": []
    },
    {
      "cell_type": "code",
      "metadata": {
        "id": "ldsCXRIwgWfV",
        "colab_type": "code",
        "colab": {}
      },
      "source": [
        "def create_baseline():\n",
        "  model = Sequential()\n",
        "  model.add(Dense(20, input_dim=X.shape[1], kernel_initializer='normal', activation='relu'))\n",
        "  model.add(Dropout(0.1)) \n",
        "  model.add(Dense(25, input_dim=X.shape[1], kernel_initializer='normal', activation='relu'))\n",
        "  model.add(Dropout(0.1)) \n",
        "  model.add(Dense(20, input_dim=X.shape[1], kernel_initializer='normal', activation='relu'))\n",
        "  model.add(Dropout(0.1))\n",
        "  model.add(Dense(10, input_dim=X.shape[1], kernel_initializer='normal', activation='relu'))\n",
        "  model.add(Dropout(0)) \n",
        "  model.add(Dense(1, kernel_initializer='normal', activation='sigmoid'))\n",
        "  model.compile(loss='binary_crossentropy', optimizer='adam', metrics=[f1])\n",
        "  return model"
      ],
      "execution_count": 0,
      "outputs": []
    },
    {
      "cell_type": "code",
      "metadata": {
        "id": "FAflVC15fTek",
        "colab_type": "code",
        "colab": {
          "base_uri": "https://localhost:8080/",
          "height": 102
        },
        "outputId": "4f21f4d0-de5f-4c3f-9729-bc65e0a41492"
      },
      "source": [
        "pred = []\n",
        "pred_ = []\n",
        "for fold, (trn_idx, val_idx) in enumerate(skf.split(X, Y)):\n",
        "    Xtrain, Ytrain = X.iloc[trn_idx], Y[trn_idx]\n",
        "    Xtest, Ytest = X.iloc[val_idx], Y[val_idx]\n",
        "    model = KerasClassifier(build_fn=create_baseline, epochs=100, batch_size=4, verbose=0, validation_data=(Xtest, Ytest))\n",
        "    model.fit(Xtrain,Ytrain)\n",
        "    p = model.predict_proba(Xtest)\n",
        "    for pp in p:\n",
        "        pred.append(pp[1])\n",
        "        if pp[1]>0.5:\n",
        "          pred_.append(1)\n",
        "        else:\n",
        "          pred_.append(0)\n",
        "\n",
        "print('Accuracy:    ' , accuracy_score(Y, pred_))\n",
        "print('F_Measure:   ', f1_score(Y, pred_))\n",
        "fpr, tpr, thresholds = roc_curve(Y, pred)\n",
        "print('AUC:         ', auc(fpr, tpr))\n",
        "print(confusion_matrix(Y, pred_))"
      ],
      "execution_count": 74,
      "outputs": [
        {
          "output_type": "stream",
          "text": [
            "Accuracy:     0.7260726072607261\n",
            "F_Measure:    0.36641221374045796\n",
            "AUC:          0.7072424435930182\n",
            "[[196  20]\n",
            " [ 63  24]]\n"
          ],
          "name": "stdout"
        }
      ]
    },
    {
      "cell_type": "code",
      "metadata": {
        "id": "JElIPb5IhEMC",
        "colab_type": "code",
        "colab": {}
      },
      "source": [
        ""
      ],
      "execution_count": 0,
      "outputs": []
    }
  ]
}